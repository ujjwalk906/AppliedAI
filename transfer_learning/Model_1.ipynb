{
 "cells": [
  {
   "cell_type": "code",
   "execution_count": 1,
   "metadata": {},
   "outputs": [],
   "source": [
    "import pandas as pd\n",
    "import matplotlib.pyplot as plt\n",
    "import tensorflow as tf\n",
    "import numpy as np\n",
    "import tensorflow.keras as keras\n",
    "import cv2\n",
    "data = pd.read_csv(\"./labels_final.csv\")\n",
    "img_paths_tif = \"./data_final/\"+data[\"path\"]\n",
    "data_jpeg = pd.read_csv(\"./labels_final_jpeg.csv\")\n",
    "img_paths_jpeg = \"./data_final/\"+data[\"path\"]\n",
    "label = data[\"label\"]"
   ]
  },
  {
   "cell_type": "code",
   "execution_count": 2,
   "metadata": {},
   "outputs": [],
   "source": [
    "from sklearn.model_selection import train_test_split\n",
    "train_img_paths,test_img_paths,train_label,test_label = train_test_split(img_paths_jpeg,label,test_size=0.2,random_state=0,stratify=label)"
   ]
  },
  {
   "cell_type": "code",
   "execution_count": 3,
   "metadata": {},
   "outputs": [],
   "source": [
    "def tf_train_data_generator(images, labels, is_training, batch_size=32):\n",
    "    '''Construct a data generator using tf.Dataset'''\n",
    "    \n",
    "    def parse_function(filename,labels):\n",
    "        #reading path \n",
    "        image_string = tf.io.read_file(filename)\n",
    "        #decoding image\n",
    "        image = tf.image.decode_jpeg(image_string, channels=3)\n",
    "\n",
    "        # This will convert to float values in [0, 1]\n",
    "        image = tf.image.convert_image_dtype(image, tf.float32)\n",
    "        \n",
    "        image = tf.image.resize(image, [400, 400])\n",
    "        \n",
    "        y = tf.one_hot(tf.cast(labels, tf.uint8), 16)\n",
    "        return image,y\n",
    "    \n",
    "    def preprocess(image,labels):\n",
    "        image = tf.image.random_flip_left_right(image)\n",
    "        image = tf.image.random_flip_up_down(image)\n",
    "        image = tf.image.rot90(image, tf.random.uniform(shape=[], minval=0, maxval=4, dtype=tf.int32))\n",
    "        image = tf.image.random_hue(image, 0.08)\n",
    "        image = tf.image.random_saturation(image, 0.6, 1.6)\n",
    "        image = tf.image.random_brightness(image, 0.05)\n",
    "        image = tf.image.random_contrast(image, 0.7, 1.3)\n",
    "        return image,labels\n",
    "    \n",
    "\n",
    "    dataset = tf.data.Dataset.from_tensor_slices((images,labels))\n",
    "    \n",
    "    if is_training:\n",
    "        dataset = dataset.shuffle(len(images))  # depends on sample size\n",
    "        \n",
    "    # Transform and batch data at the same time\n",
    "    dataset = dataset.map(parse_function,num_parallel_calls=tf.data.AUTOTUNE).map(preprocess,num_parallel_calls=tf.data.AUTOTUNE).batch(batch_size=batch_size,num_parallel_calls=tf.data.AUTOTUNE).prefetch(tf.data.experimental.AUTOTUNE)\n",
    "    return dataset"
   ]
  },
  {
   "cell_type": "code",
   "execution_count": 4,
   "metadata": {},
   "outputs": [],
   "source": [
    "def tf_test_data_generator(images, labels, is_training, batch_size=32):\n",
    "    '''Construct a data generator using tf.Dataset'''\n",
    "    \n",
    "    def parse_function(filename,labels):\n",
    "        #reading path \n",
    "        image_string = tf.io.read_file(filename)\n",
    "        #decoding image\n",
    "        image = tf.image.decode_jpeg(image_string, channels=3)\n",
    "\n",
    "        # This will convert to float values in [0, 1]\n",
    "        image = tf.image.convert_image_dtype(image, tf.float32)\n",
    "        \n",
    "        image = tf.image.resize(image, [400, 400])\n",
    "        \n",
    "        y = tf.one_hot(tf.cast(labels, tf.uint8), 16)\n",
    "        return image,y\n",
    "\n",
    "    dataset = tf.data.Dataset.from_tensor_slices((images,labels))\n",
    "    \n",
    "    if is_training:\n",
    "        dataset = dataset.shuffle(len(images))  # depends on sample size\n",
    "        \n",
    "    # Transform and batch data at the same time\n",
    "    dataset = dataset.map(parse_function,num_parallel_calls=tf.data.AUTOTUNE).batch(batch_size=batch_size,num_parallel_calls=tf.data.AUTOTUNE).prefetch(tf.data.experimental.AUTOTUNE)\n",
    "    return dataset"
   ]
  },
  {
   "cell_type": "code",
   "execution_count": 5,
   "metadata": {},
   "outputs": [],
   "source": [
    "batch_size = 40\n",
    "train_ds = tf_train_data_generator(train_img_paths, train_label, is_training=True, batch_size=batch_size)\n",
    "test_ds = tf_test_data_generator(test_img_paths,test_label,is_training=True, batch_size=batch_size)"
   ]
  },
  {
   "cell_type": "code",
   "execution_count": 6,
   "metadata": {},
   "outputs": [
    {
     "name": "stdout",
     "output_type": "stream",
     "text": [
      "For class  0  no. of images  3016\n",
      "For class  1  no. of images  2994\n",
      "For class  2  no. of images  2993\n",
      "For class  3  no. of images  3005\n",
      "For class  4  no. of images  2994\n",
      "For class  5  no. of images  2999\n",
      "For class  6  no. of images  2985\n",
      "For class  7  no. of images  3000\n",
      "For class  8  no. of images  3003\n",
      "For class  9  no. of images  3002\n",
      "For class  10  no. of images  3002\n",
      "For class  11  no. of images  2992\n",
      "For class  12  no. of images  3006\n",
      "For class  13  no. of images  3007\n",
      "For class  14  no. of images  3006\n",
      "For class  15  no. of images  2996\n"
     ]
    }
   ],
   "source": [
    "l = dict(label.value_counts())\n",
    "l = sorted(l.items())\n",
    "for c,num in l:\n",
    "    print(\"For class \",c,\" no. of images \",num)"
   ]
  },
  {
   "cell_type": "code",
   "execution_count": 7,
   "metadata": {},
   "outputs": [],
   "source": [
    "vgg = tf.keras.applications.VGG16(include_top=False, weights='imagenet',input_shape=(400,400,3))\n",
    "vgg.trainable = False"
   ]
  },
  {
   "cell_type": "code",
   "execution_count": 8,
   "metadata": {},
   "outputs": [
    {
     "name": "stdout",
     "output_type": "stream",
     "text": [
      "Model: \"vgg16\"\n",
      "_________________________________________________________________\n",
      "Layer (type)                 Output Shape              Param #   \n",
      "=================================================================\n",
      "input_1 (InputLayer)         [(None, 400, 400, 3)]     0         \n",
      "_________________________________________________________________\n",
      "block1_conv1 (Conv2D)        (None, 400, 400, 64)      1792      \n",
      "_________________________________________________________________\n",
      "block1_conv2 (Conv2D)        (None, 400, 400, 64)      36928     \n",
      "_________________________________________________________________\n",
      "block1_pool (MaxPooling2D)   (None, 200, 200, 64)      0         \n",
      "_________________________________________________________________\n",
      "block2_conv1 (Conv2D)        (None, 200, 200, 128)     73856     \n",
      "_________________________________________________________________\n",
      "block2_conv2 (Conv2D)        (None, 200, 200, 128)     147584    \n",
      "_________________________________________________________________\n",
      "block2_pool (MaxPooling2D)   (None, 100, 100, 128)     0         \n",
      "_________________________________________________________________\n",
      "block3_conv1 (Conv2D)        (None, 100, 100, 256)     295168    \n",
      "_________________________________________________________________\n",
      "block3_conv2 (Conv2D)        (None, 100, 100, 256)     590080    \n",
      "_________________________________________________________________\n",
      "block3_conv3 (Conv2D)        (None, 100, 100, 256)     590080    \n",
      "_________________________________________________________________\n",
      "block3_pool (MaxPooling2D)   (None, 50, 50, 256)       0         \n",
      "_________________________________________________________________\n",
      "block4_conv1 (Conv2D)        (None, 50, 50, 512)       1180160   \n",
      "_________________________________________________________________\n",
      "block4_conv2 (Conv2D)        (None, 50, 50, 512)       2359808   \n",
      "_________________________________________________________________\n",
      "block4_conv3 (Conv2D)        (None, 50, 50, 512)       2359808   \n",
      "_________________________________________________________________\n",
      "block4_pool (MaxPooling2D)   (None, 25, 25, 512)       0         \n",
      "_________________________________________________________________\n",
      "block5_conv1 (Conv2D)        (None, 25, 25, 512)       2359808   \n",
      "_________________________________________________________________\n",
      "block5_conv2 (Conv2D)        (None, 25, 25, 512)       2359808   \n",
      "_________________________________________________________________\n",
      "block5_conv3 (Conv2D)        (None, 25, 25, 512)       2359808   \n",
      "_________________________________________________________________\n",
      "block5_pool (MaxPooling2D)   (None, 12, 12, 512)       0         \n",
      "=================================================================\n",
      "Total params: 14,714,688\n",
      "Trainable params: 0\n",
      "Non-trainable params: 14,714,688\n",
      "_________________________________________________________________\n"
     ]
    }
   ],
   "source": [
    "vgg.summary()"
   ]
  },
  {
   "cell_type": "code",
   "execution_count": 9,
   "metadata": {},
   "outputs": [],
   "source": [
    "model = tf.keras.Sequential([\n",
    "    vgg,\n",
    "    keras.layers.Conv2D(32,3,activation=\"relu\"),\n",
    "    keras.layers.MaxPool2D(),\n",
    "    keras.layers.Flatten(),\n",
    "    keras.layers.Dense(128,activation=\"relu\"),\n",
    "    keras.layers.Dense(64,activation=\"relu\"),\n",
    "    keras.layers.Dense(16,activation=\"softmax\")\n",
    "])"
   ]
  },
  {
   "cell_type": "code",
   "execution_count": 10,
   "metadata": {},
   "outputs": [
    {
     "name": "stdout",
     "output_type": "stream",
     "text": [
      "Model: \"sequential\"\n",
      "_________________________________________________________________\n",
      "Layer (type)                 Output Shape              Param #   \n",
      "=================================================================\n",
      "vgg16 (Functional)           (None, 12, 12, 512)       14714688  \n",
      "_________________________________________________________________\n",
      "conv2d (Conv2D)              (None, 10, 10, 32)        147488    \n",
      "_________________________________________________________________\n",
      "max_pooling2d (MaxPooling2D) (None, 5, 5, 32)          0         \n",
      "_________________________________________________________________\n",
      "flatten (Flatten)            (None, 800)               0         \n",
      "_________________________________________________________________\n",
      "dense (Dense)                (None, 128)               102528    \n",
      "_________________________________________________________________\n",
      "dense_1 (Dense)              (None, 64)                8256      \n",
      "_________________________________________________________________\n",
      "dense_2 (Dense)              (None, 16)                1040      \n",
      "=================================================================\n",
      "Total params: 14,974,000\n",
      "Trainable params: 259,312\n",
      "Non-trainable params: 14,714,688\n",
      "_________________________________________________________________\n"
     ]
    }
   ],
   "source": [
    "model.summary()"
   ]
  },
  {
   "cell_type": "code",
   "execution_count": 11,
   "metadata": {},
   "outputs": [
    {
     "data": {
      "image/png": "[encoded data removed]",
      "text/plain": [
       "<IPython.core.display.Image object>"
      ]
     },
     "execution_count": 11,
     "metadata": {},
     "output_type": "execute_result"
    }
   ],
   "source": [
    "tf.keras.utils.plot_model(model,\"model_1.png\",show_shapes=True)"
   ]
  },
  {
   "cell_type": "code",
   "execution_count": 12,
   "metadata": {},
   "outputs": [
    {
     "name": "stdout",
     "output_type": "stream",
     "text": [
      "WARNING:tensorflow:`write_grads` will be ignored in TensorFlow 2.0 for the `TensorBoard` Callback.\n"
     ]
    },
    {
     "name": "stderr",
     "output_type": "stream",
     "text": [
      "D:\\conda\\envs\\tf_gpu\\lib\\site-packages\\tensorflow_addons\\utils\\ensure_tf_install.py:53: UserWarning: Tensorflow Addons supports using Python ops for all Tensorflow versions above or equal to 2.3.0 and strictly below 2.6.0 (nightly versions are not supported). \n",
      " The versions of TensorFlow you are currently using is 2.6.0 and is not supported. \n",
      "Some things might work, some things might not.\n",
      "If you were to encounter a bug, do not file an issue.\n",
      "If you want to make sure you're using a tested and supported configuration, either change the TensorFlow version or the TensorFlow Addons's version. \n",
      "You can find the compatibility matrix in TensorFlow Addon's readme:\n",
      "https://github.com/tensorflow/addons\n",
      "  warnings.warn(\n"
     ]
    }
   ],
   "source": [
    "#callbacks\n",
    "import tensorflow_addons as tfa\n",
    "from tensorflow.keras.callbacks import ModelCheckpoint\n",
    "#model check point\n",
    "filepath = \"./best_model/best_model_1.h5\"\n",
    "Checkpoint = ModelCheckpoint(filepath=filepath,monitor='val_acc',save_best_only=True,mode='max')\n",
    "\n",
    "log_dir = \"./tensorboard_logs/model_1\"\n",
    "tensorboard_callback = tf.keras.callbacks.TensorBoard(log_dir=log_dir,histogram_freq=1, write_graph=True,write_grads=True)\n",
    "\n",
    "class stopTraining(tf.keras.callbacks.Callback):\n",
    "  def on_train_begin(self, logs ={}):\n",
    "    self.val_acc = -1\n",
    "  \n",
    "  def on_epoch_end(self,epoch,logs={}):\n",
    "    self.val_acc = logs['val_acc']\n",
    "    if self.val_acc >0.60:\n",
    "        self.model.stop_training = True\n",
    "\n",
    "stopTraining = stopTraining()\n",
    "\n",
    "model.compile(optimizer=keras.optimizers.Adam(),loss=keras.losses.CategoricalCrossentropy(),metrics=[\"acc\",tfa.metrics.F1Score(num_classes = 20,average = \"micro\",threshold =0.5)])"
   ]
  },
  {
   "cell_type": "code",
   "execution_count": 13,
   "metadata": {},
   "outputs": [
    {
     "name": "stdout",
     "output_type": "stream",
     "text": [
      "Epoch 1/20\n",
      "960/960 [==============================] - ETA: 0s - loss: 1.6258 - acc: 0.4857 - f1_score: 0.4265"
     ]
    },
    {
     "name": "stderr",
     "output_type": "stream",
     "text": [
      "D:\\conda\\envs\\tf_gpu\\lib\\site-packages\\keras\\metrics.py:254: UserWarning: Metric F1Score implements a `reset_states()` method; rename it to `reset_state()` (without the final \"s\"). The name `reset_states()` has been deprecated to improve API consistency.\n",
      "  warnings.warn('Metric %s implements a `reset_states()` method; rename it '\n"
     ]
    },
    {
     "name": "stdout",
     "output_type": "stream",
     "text": [
      "960/960 [==============================] - 809s 815ms/step - loss: 1.6258 - acc: 0.4857 - f1_score: 0.4265 - val_loss: 1.3549 - val_acc: 0.5682 - val_f1_score: 0.5335\n",
      "Epoch 2/20\n",
      "960/960 [==============================] - 801s 834ms/step - loss: 1.2933 - acc: 0.5954 - f1_score: 0.5672 - val_loss: 1.2071 - val_acc: 0.6208 - val_f1_score: 0.5923\n"
     ]
    }
   ],
   "source": [
    "tf.keras.backend.clear_session()\n",
    "tf.keras.backend.clear_session()\n",
    "history = model.fit(train_ds,\n",
    "                    validation_data = test_ds,\n",
    "                    epochs=20,callbacks = [Checkpoint,tensorboard_callback,stopTraining])"
   ]
  },
  {
   "cell_type": "markdown",
   "metadata": {},
   "source": [
    "Stopped training because, validation accuracy has reached 60.08% in just one epoch."
   ]
  },
  {
   "cell_type": "code",
   "execution_count": 17,
   "metadata": {},
   "outputs": [
    {
     "name": "stdout",
     "output_type": "stream",
     "text": [
      "+-------+-----------------------------------+----------------+------------+---------------+-----------+\n",
      "| Model |         Model Description         | Train Accuracy | Train_loss | Test Accuracy | Test_loss |\n",
      "+-------+-----------------------------------+----------------+------------+---------------+-----------+\n",
      "| VGG16 | No layers of vgg16 are Trainable. |     59.54%     |   1.2933   |     62.08%    |   1.2071  |\n",
      "|       |       Dense Layers are used.      |                |            |               |           |\n",
      "+-------+-----------------------------------+----------------+------------+---------------+-----------+\n"
     ]
    }
   ],
   "source": [
    "from prettytable import PrettyTable\n",
    "\n",
    "pt = PrettyTable([\"Model\",\"Model Description\",\"Train Accuracy\",\"Train_loss\",\"Test Accuracy\",\"Test_loss\"])\n",
    "pt.add_row([\"VGG16\",\"No layers of vgg16 are Trainable.\\n Dense Layers are used.\",\"59.54%\",\"1.2933\",\"62.08%\",\"1.2071\"])\n",
    "print(pt)"
   ]
  }
 ],
 "metadata": {
  "interpreter": {
   "hash": "a20f269aa7709dba742afcaeef8d1a07b542509e2062949525e89f11874fd29c"
  },
  "kernelspec": {
   "display_name": "Python 3.9.7 64-bit ('tf_gpu': conda)",
   "name": "python3"
  },
  "language_info": {
   "codemirror_mode": {
    "name": "ipython",
    "version": 3
   },
   "file_extension": ".py",
   "mimetype": "text/x-python",
   "name": "python",
   "nbconvert_exporter": "python",
   "pygments_lexer": "ipython3",
   "version": "3.9.7"
  },
  "orig_nbformat": 4
 },
 "nbformat": 4,
 "nbformat_minor": 2
}
